{
 "cells": [
  {
   "cell_type": "code",
   "execution_count": 3,
   "id": "initial_id",
   "metadata": {
    "ExecuteTime": {
     "end_time": "2025-10-12T03:06:30.342224Z",
     "start_time": "2025-10-12T03:06:30.337366Z"
    },
    "collapsed": true
   },
   "outputs": [],
   "source": [
    "import pandas as pd\n",
    "from sklearn.metrics import ConfusionMatrixDisplay\n",
    "from sklearn.linear_model import LogisticRegression\n",
    "from sklearn.svm import SVC\n",
    "from sklearn.ensemble import RandomForestClassifier\n",
    "from sklearn.neighbors import KNeighborsClassifier\n",
    "from sklearn.tree import DecisionTreeClassifier\n",
    "\n",
    "from src.wine_classifier.load_wine_data import load_wine_data"
   ]
  },
  {
   "cell_type": "code",
   "execution_count": 4,
   "id": "6b3674a501dc545f",
   "metadata": {
    "ExecuteTime": {
     "end_time": "2025-10-12T03:06:31.489181Z",
     "start_time": "2025-10-12T03:06:31.419114Z"
    }
   },
   "outputs": [
    {
     "name": "stdout",
     "output_type": "stream",
     "text": [
      "   alcohol  malic_acid   ash  alcalinity_of_ash  magnesium  total_phenols  \\\n",
      "0    14.23        1.71  2.43               15.6      127.0           2.80   \n",
      "1    13.20        1.78  2.14               11.2      100.0           2.65   \n",
      "2    13.16        2.36  2.67               18.6      101.0           2.80   \n",
      "3    14.37        1.95  2.50               16.8      113.0           3.85   \n",
      "4    13.24        2.59  2.87               21.0      118.0           2.80   \n",
      "\n",
      "   flavanoids  nonflavanoid_phenols  proanthocyanins  color_intensity   hue  \\\n",
      "0        3.06                  0.28             2.29             5.64  1.04   \n",
      "1        2.76                  0.26             1.28             4.38  1.05   \n",
      "2        3.24                  0.30             2.81             5.68  1.03   \n",
      "3        3.49                  0.24             2.18             7.80  0.86   \n",
      "4        2.69                  0.39             1.82             4.32  1.04   \n",
      "\n",
      "   od280/od315_of_diluted_wines  proline  \n",
      "0                          3.92   1065.0  \n",
      "1                          3.40   1050.0  \n",
      "2                          3.17   1185.0  \n",
      "3                          3.45   1480.0  \n",
      "4                          2.93    735.0  \n",
      "(178, 13)\n",
      "target\n",
      "1    71\n",
      "0    59\n",
      "2    48\n",
      "Name: count, dtype: int64\n"
     ]
    }
   ],
   "source": [
    "X, y, feature_names, target_names = load_wine_data(as_frame=True)\n",
    "print(X.head())\n",
    "print(X.shape)\n",
    "print(y.value_counts())"
   ]
  },
  {
   "cell_type": "code",
   "execution_count": 5,
   "id": "97a6b896da047a10",
   "metadata": {
    "ExecuteTime": {
     "end_time": "2025-10-12T03:06:36.600905Z",
     "start_time": "2025-10-12T03:06:36.590598Z"
    }
   },
   "outputs": [],
   "source": [
    "from sklearn.model_selection import train_test_split\n",
    "X_train, X_test, y_train, y_test = train_test_split(X, y, test_size=0.2, random_state=42)"
   ]
  },
  {
   "cell_type": "code",
   "execution_count": 6,
   "id": "522c953566364adf",
   "metadata": {
    "ExecuteTime": {
     "end_time": "2025-10-12T03:06:38.287081Z",
     "start_time": "2025-10-12T03:06:38.280202Z"
    }
   },
   "outputs": [],
   "source": [
    "from sklearn.pipeline import Pipeline\n",
    "from sklearn.preprocessing import StandardScaler\n",
    "\n",
    "logreg_pipeline = Pipeline([\n",
    "    ('scaler', StandardScaler()),\n",
    "    ('classifier', LogisticRegression(max_iter=1000, random_state=42))\n",
    "])\n",
    "\n",
    "svm_pipeline = Pipeline([\n",
    "    ('scaler', StandardScaler()),\n",
    "    ('classifier', SVC(probability=True, random_state=42))\n",
    "])\n",
    "\n",
    "knn_pipeline = Pipeline([\n",
    "    ('scaler', StandardScaler()),\n",
    "    ('classifier', KNeighborsClassifier())\n",
    "])\n",
    "\n",
    "rf_pipeline = Pipeline([\n",
    "    ('classifier', RandomForestClassifier())\n",
    "])\n",
    "\n",
    "decision_tree_pipeline = Pipeline([('classifier', DecisionTreeClassifier())])\n",
    "\n",
    "models = {\n",
    "    \"Logistic Regression\": logreg_pipeline,\n",
    "    \"SVM\": svm_pipeline,\n",
    "    \"KNN\": knn_pipeline,\n",
    "    \"Random Forest\": rf_pipeline,\n",
    "    \"Decision Tree\": decision_tree_pipeline\n",
    "}"
   ]
  },
  {
   "cell_type": "code",
   "execution_count": 25,
   "id": "5845995f9f6ea79e",
   "metadata": {
    "ExecuteTime": {
     "end_time": "2025-10-12T04:10:25.597873Z",
     "start_time": "2025-10-12T04:10:25.590487Z"
    }
   },
   "outputs": [],
   "source": [
    "from src.wine_classifier.model_evaluation import evaluate_model"
   ]
  },
  {
   "cell_type": "code",
   "execution_count": 26,
   "id": "b199494ec577193",
   "metadata": {
    "ExecuteTime": {
     "end_time": "2025-10-12T04:10:27.615736Z",
     "start_time": "2025-10-12T04:10:27.411600Z"
    }
   },
   "outputs": [],
   "source": [
    "results = {}\n",
    "\n",
    "for names, model in models.items():\n",
    "    model = model.fit(X_train, y_train)\n",
    "    results[names] = evaluate_model(model, X_test, y_test)"
   ]
  },
  {
   "cell_type": "code",
   "execution_count": 27,
   "id": "cb86e576ccf984a2",
   "metadata": {
    "ExecuteTime": {
     "end_time": "2025-10-12T04:10:29.532724Z",
     "start_time": "2025-10-12T04:10:29.524321Z"
    }
   },
   "outputs": [
    {
     "name": "stdout",
     "output_type": "stream",
     "text": [
      "                     accuracy        f1\n",
      "Logistic Regression       1.0       1.0\n",
      "SVM                       1.0       1.0\n",
      "KNN                  0.944444  0.943604\n",
      "Random Forest             1.0       1.0\n",
      "Decision Tree        0.944444  0.943997\n"
     ]
    }
   ],
   "source": [
    "print(pd.DataFrame(results).T[['accuracy', 'f1']])"
   ]
  },
  {
   "cell_type": "markdown",
   "id": "9ef75a46705a326c",
   "metadata": {},
   "source": [
    "[Plot of model comparison]\n",
    "\n",
    "⬇️\n",
    "### Model Selection Policy\n",
    "(Your markdown text)\n"
   ]
  },
  {
   "cell_type": "code",
   "execution_count": 28,
   "id": "f452a4c4f1de44da",
   "metadata": {
    "ExecuteTime": {
     "end_time": "2025-10-12T04:10:33.877702Z",
     "start_time": "2025-10-12T04:10:33.624422Z"
    }
   },
   "outputs": [
    {
     "data": {
      "image/png": "[encoded data removed]",
      "text/plain": [
       "<Figure size 640x480 with 1 Axes>"
      ]
     },
     "jetTransient": {
      "display_id": null
     },
     "metadata": {},
     "output_type": "display_data"
    }
   ],
   "source": [
    "import matplotlib.pyplot as plt\n",
    "\n",
    "bar_chart = pd.DataFrame(results).T[['accuracy', 'f1']]\n",
    "\n",
    "bar_chart.plot(kind='bar')\n",
    "\n",
    "plt.title('Results Comparison')\n",
    "plt.xlabel('Model')\n",
    "plt.ylabel('Value')\n",
    "plt.ylim(0.9, 1.01)\n",
    "plt.legend(title='Metrics')\n",
    "plt.tight_layout()\n",
    "plt.savefig('../reports/figures/model_scores.png', dpi=150)\n",
    "plt.show()"
   ]
  },
  {
   "cell_type": "markdown",
   "id": "9c4dd859513a1891",
   "metadata": {},
   "source": [
    "**Observation:**\n",
    "All top three models (Logistic Regression, SVM, and Random Forest) achieved perfect test accuracy and F1 scores.\n",
    "KNN and Decision Tree performed slightly lower (~0.94 F1).\n",
    "For deployment and CI/CD use, Logistic Regression was selected for its simplicity, determinism, and speed."
   ]
  },
  {
   "cell_type": "code",
   "execution_count": 29,
   "id": "5d52d626722710b",
   "metadata": {
    "ExecuteTime": {
     "end_time": "2025-10-12T04:10:36.292414Z",
     "start_time": "2025-10-12T04:10:36.147256Z"
    }
   },
   "outputs": [
    {
     "data": {
      "image/png": "[encoded data removed]",
      "text/plain": [
       "<Figure size 400x400 with 1 Axes>"
      ]
     },
     "jetTransient": {
      "display_id": null
     },
     "metadata": {},
     "output_type": "display_data"
    }
   ],
   "source": [
    "\n",
    "best_name = \"Logistic Regression\"\n",
    "\n",
    "best_cm = results[best_name][\"confusion_matrix\"]\n",
    "\n",
    "fig, ax = plt.subplots(figsize=(4, 4))\n",
    "disp = ConfusionMatrixDisplay(confusion_matrix = best_cm)\n",
    "disp.plot(cmap=\"Blues\", ax=ax, colorbar=False)\n",
    "ax.set_title(f\"Confusion Matrix — {best_name}\")\n",
    "fig.tight_layout()\n",
    "fig.savefig(\"../reports/figures/confusion_best.png\", dpi=150)\n",
    "plt.show()"
   ]
  },
  {
   "cell_type": "markdown",
   "id": "41cf9faa19568fb8",
   "metadata": {},
   "source": [
    "**Confusion Matrix — Interpretation**\n",
    "\n",
    "- The matrix is perfectly diagonal (no off-diagonal counts), confirming **zero misclassifications** on the test set.\n",
    "- Class supports appear as 14, 14, and 8, indicating class 2 has fewer test samples—consistent with a stratified split.\n",
    "- This aligns with the test F1 = 1.00 for Logistic Regression.\n",
    "\n",
    "**Why this matters (engineering view):**\n",
    "- Confirms the model’s behavior per class, not just aggregate metrics.\n",
    "- Provides visual proof for stakeholders and for CI reports.\n",
    "- Justifies selecting Logistic Regression as the deployment model (simple, fast, deterministic) among ties.\n"
   ]
  },
  {
   "cell_type": "code",
   "execution_count": null,
   "id": "a0b4a55d01bcce52",
   "metadata": {},
   "outputs": [],
   "source": []
  }
 ],
 "metadata": {
  "kernelspec": {
   "display_name": "Python 3",
   "language": "python",
   "name": "python3"
  },
  "language_info": {
   "codemirror_mode": {
    "name": "ipython",
    "version": 2
   },
   "file_extension": ".py",
   "mimetype": "text/x-python",
   "name": "python",
   "nbconvert_exporter": "python",
   "pygments_lexer": "ipython2",
   "version": "2.7.6"
  }
 },
 "nbformat": 4,
 "nbformat_minor": 5
}
